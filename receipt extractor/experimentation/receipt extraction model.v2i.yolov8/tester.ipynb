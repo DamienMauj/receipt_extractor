{
 "cells": [
  {
   "cell_type": "code",
   "execution_count": 1,
   "metadata": {},
   "outputs": [],
   "source": [
    "import ultralytics\n",
    "from ultralytics import YOLO\n",
    "import os"
   ]
  },
  {
   "cell_type": "code",
   "execution_count": 2,
   "metadata": {},
   "outputs": [
    {
     "data": {
      "text/plain": [
       "'/Users/damienmaujean/Library/CloudStorage/OneDrive-Personal/university/MiddleSex University/Year 3/CST3990 Individual Project/receipt extractor/experimentation/receipt extraction model.v2i.yolov8'"
      ]
     },
     "execution_count": 2,
     "metadata": {},
     "output_type": "execute_result"
    }
   ],
   "source": [
    "HOME = os.getcwd()\n",
    "HOME"
   ]
  },
  {
   "cell_type": "code",
   "execution_count": 3,
   "metadata": {},
   "outputs": [],
   "source": [
    "model = YOLO('trained_model/best.pt')"
   ]
  },
  {
   "cell_type": "code",
   "execution_count": 15,
   "metadata": {},
   "outputs": [
    {
     "name": "stdout",
     "output_type": "stream",
     "text": [
      "\n",
      "image 1/1 /Users/damienmaujean/Library/CloudStorage/OneDrive-Personal/university/MiddleSex University/Year 3/CST3990 Individual Project/receipt extractor/experimentation/quick_test/IMG_20240108_202237.jpg: 640x480 4 dates, 3 item_purshases, 1 shop_informaton, 2 totals, 329.5ms\n",
      "Speed: 1.7ms preprocess, 329.5ms inference, 0.4ms postprocess per image at shape (1, 3, 640, 480)\n",
      "Results saved to \u001b[1mruns/detect/predict\u001b[0m\n",
      "3 labels saved to runs/detect/predict/labels\n",
      "1051 421 1651 715\n",
      "961 2728 1630 2808\n",
      "955 654 1665 1821\n",
      "898 3454 1268 3521\n"
     ]
    }
   ],
   "source": [
    "import cv2\n",
    "\n",
    "# Load the image\n",
    "file_path = \"/Users/damienmaujean/Library/CloudStorage/OneDrive-Personal/university/MiddleSex University/Year 3/CST3990 Individual Project/receipt extractor/experimentation/quick_test/IMG_20240108_202237.jpg\"\n",
    "\n",
    "# Run your model\n",
    "results = model(file_path)\n",
    "\n",
    "# Dictionary to store highest confidence detection for each class\n",
    "highest_conf_detections = {}\n",
    "for result in results:\n",
    "    for box in result.boxes:\n",
    "        class_label = result.names[int(box.cls)]\n",
    "        conf = box.conf\n",
    "\n",
    "        # Check if this class_label already exists and if this detection has higher confidence\n",
    "        if class_label not in highest_conf_detections or highest_conf_detections[class_label].conf < conf:\n",
    "            highest_conf_detections[class_label] = box\n",
    "\n",
    "# Now process only the detections with highest confidence for each class\n",
    "for class_label, box in highest_conf_detections.items():\n",
    "    image = cv2.imread(file_path)\n",
    "\n",
    "    # Get box coordinates\n",
    "    x1 = int(box.xyxy[0][0])\n",
    "    y1 = int(box.xyxy[0][1])\n",
    "    x2 = int(box.xyxy[0][2])\n",
    "    y2 = int(box.xyxy[0][3])\n",
    "\n",
    "    print(x1, y1, x2, y2)\n",
    "\n",
    "    # Draw rectangle (bounding box)\n",
    "    cv2.rectangle(image, (x1, y1), (x2, y2), color=(0, 255, 0), thickness=2)\n",
    "\n",
    "    # Put class label with background rectangle\n",
    "    label_size, base_line = cv2.getTextSize(class_label, cv2.FONT_HERSHEY_SIMPLEX, 0.5, 1)\n",
    "    y1_label = max(y1, label_size[1] + 10)\n",
    "    cv2.rectangle(image, (x1, y1 - label_size[1] - 10), (x1 + label_size[0], y1), (0, 255, 0), cv2.FILLED)\n",
    "    cv2.putText(image, class_label, (x1, y1 - 5), cv2.FONT_HERSHEY_SIMPLEX, 0.5, (0, 0, 0), 1)\n",
    "\n",
    "    # Save or show the result\n",
    "    cv2.imwrite(f\"/Users/damienmaujean/Library/CloudStorage/OneDrive-Personal/university/MiddleSex University/Year 3/CST3990 Individual Project/receipt extractor/experimentation/receipt extraction model.v2i.yolov8/annotion_extraction_test/annotated_image_{class_label}.jpg\", image)\n",
    "\n",
    "    # cropped the picture\n",
    "    crop_img = image[y1:y2, x1:x2]\n",
    "    cv2.imwrite(f\"/Users/damienmaujean/Library/CloudStorage/OneDrive-Personal/university/MiddleSex University/Year 3/CST3990 Individual Project/receipt extractor/experimentation/receipt extraction model.v2i.yolov8/annotion_extraction_test/annotated_image_{class_label}_cropped.jpg\", crop_img)\n"
   ]
  }
 ],
 "metadata": {
  "kernelspec": {
   "display_name": "receipt_extractor",
   "language": "python",
   "name": "python3"
  },
  "language_info": {
   "codemirror_mode": {
    "name": "ipython",
    "version": 3
   },
   "file_extension": ".py",
   "mimetype": "text/x-python",
   "name": "python",
   "nbconvert_exporter": "python",
   "pygments_lexer": "ipython3",
   "version": "3.10.7"
  }
 },
 "nbformat": 4,
 "nbformat_minor": 2
}
