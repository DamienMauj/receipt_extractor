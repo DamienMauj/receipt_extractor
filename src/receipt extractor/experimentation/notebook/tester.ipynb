{
 "cells": [
  {
   "cell_type": "code",
   "execution_count": 1,
   "metadata": {},
   "outputs": [],
   "source": [
    "import ultralytics\n",
    "from ultralytics import YOLO\n",
    "import os\n",
    "import pytesseract\n",
    "import cv2\n",
    "import numpy"
   ]
  },
  {
   "cell_type": "code",
   "execution_count": 2,
   "metadata": {},
   "outputs": [
    {
     "data": {
      "text/plain": [
       "'/Users/damienmaujean/Library/CloudStorage/OneDrive-Personal/university/MiddleSex University/Year 3/CST3990 Individual Project/src/receipt extractor/experimentation/receipt extraction model.v2i.yolov8'"
      ]
     },
     "execution_count": 2,
     "metadata": {},
     "output_type": "execute_result"
    }
   ],
   "source": [
    "HOME = os.getcwd()\n",
    "HOME"
   ]
  },
  {
   "cell_type": "code",
   "execution_count": 19,
   "metadata": {},
   "outputs": [
    {
     "name": "stdout",
     "output_type": "stream",
     "text": [
      "<class 'ultralytics.models.yolo.model.YOLO'>\n"
     ]
    }
   ],
   "source": [
    "model = YOLO('trained_model/best.pt')\n",
    "print(type(model))"
   ]
  },
  {
   "cell_type": "code",
   "execution_count": 4,
   "metadata": {},
   "outputs": [],
   "source": [
    "def extract_text(image : numpy.ndarray):\n",
    "    \"\"\"\n",
    "    Extract text from an image using Tesseract OCR.\n",
    "    \"\"\"\n",
    "    # Read the image\n",
    "    # image = cv2.imread(image_path)\n",
    "\n",
    "    # Convert the image to gray scale\n",
    "    gray_image = cv2.cvtColor(image, cv2.COLOR_BGR2GRAY)\n",
    "\n",
    "    # Use Tesseract to do OCR on the image\n",
    "    text = pytesseract.image_to_string(gray_image)\n",
    "\n",
    "    return text\n"
   ]
  },
  {
   "cell_type": "code",
   "execution_count": 6,
   "metadata": {},
   "outputs": [
    {
     "name": "stdout",
     "output_type": "stream",
     "text": [
      "\n",
      "image 1/1 /Users/damienmaujean/Library/CloudStorage/OneDrive-Personal/university/MiddleSex University/Year 3/CST3990 Individual Project/src/receipt extractor/experimentation/receipt extraction model.v2i.yolov8/train/images/0676aa86-IMG_20231221_163400_jpg.rf.5ce8e6bcbbfebbb12a6ecffb602abe3f.jpg: 640x640 1 item_purshase, 510.4ms\n",
      "Speed: 2.0ms preprocess, 510.4ms inference, 1.6ms postprocess per image at shape (1, 3, 640, 640)\n",
      "150 101 490 409\n",
      "\n",
      "\n",
      " item_purshase \n",
      "\n",
      "\n",
      "eR MART ie\n",
      "\n",
      "recension\n",
      "INTERMART Grand Baie Le Crotset le\n",
      "Paltoni Retall Ld\n",
      "T/A: VA12724306\n",
      "SRN: 613419389\n",
      "VAT INVOICE\n",
      "\n",
      "22/11/2028 17:96:50 1aZ6BL¢\n",
      "INT ONIONS RED KG R880 Tx\n",
      "ANT CAROTTE LOZAL KG Rs4Z.24 Tx:\n",
      "LABEL 60 COEUR POULET SURG 2'0\n",
      "\n",
      "2 @ Rs24.85ea Rs49,70 [x2\n",
      "S1 ELOZ PUREE FOMATE BRK SOOI L\n",
      "\n",
      "2 @ Rs59.95ea, Rs119.90 Txt\n",
      "CUISTO CHK MINS 400ch\n",
      "\n",
      "8 8 Rs74.95ea, Rs599.60 Tx2\n",
      "PRO CHICKEN MEYCED 4006\n",
      "\n",
      "2H Rst.95ea. Rs169.90 Tx2\n",
      "\n",
      "susp TOTAL Rs390_.14\n",
      "\n",
      "\n"
     ]
    }
   ],
   "source": [
    "import cv2\n",
    "\n",
    "# Load the image\n",
    "file_path = \"/Users/damienmaujean/Library/CloudStorage/OneDrive-Personal/university/MiddleSex University/Year 3/CST3990 Individual Project/src/receipt extractor/experimentation/receipt extraction model.v2i.yolov8/train/images/0676aa86-IMG_20231221_163400_jpg.rf.5ce8e6bcbbfebbb12a6ecffb602abe3f.jpg\"\n",
    "\n",
    "# Run your model\n",
    "results = model(file_path)\n",
    "\n",
    "# Dictionary to store highest confidence detection for each class\n",
    "highest_conf_detections = {}\n",
    "for result in results:\n",
    "    for box in result.boxes:\n",
    "        class_label = result.names[int(box.cls)]\n",
    "        conf = box.conf\n",
    "\n",
    "        # Check if this class_label already exists and if this detection has higher confidence\n",
    "        if class_label not in highest_conf_detections or highest_conf_detections[class_label].conf < conf:\n",
    "            highest_conf_detections[class_label] = box\n",
    "\n",
    "# Now process only the detections with highest confidence for each class\n",
    "for class_label, box in highest_conf_detections.items():\n",
    "    image = cv2.imread(file_path)\n",
    "\n",
    "    # Get box coordinates\n",
    "    x1 = int(box.xyxy[0][0])\n",
    "    y1 = int(box.xyxy[0][1])\n",
    "    x2 = int(box.xyxy[0][2])\n",
    "    y2 = int(box.xyxy[0][3])\n",
    "\n",
    "    print(x1, y1, x2, y2)\n",
    "\n",
    "    # Draw rectangle (bounding box)\n",
    "    cv2.rectangle(image, (x1, y1), (x2, y2), color=(0, 255, 0), thickness=2)\n",
    "\n",
    "    # Put class label with background rectangle\n",
    "    label_size, base_line = cv2.getTextSize(class_label, cv2.FONT_HERSHEY_SIMPLEX, 0.5, 1)\n",
    "    y1_label = max(y1, label_size[1] + 10)\n",
    "    cv2.rectangle(image, (x1, y1 - label_size[1] - 10), (x1 + label_size[0], y1), (0, 255, 0), cv2.FILLED)\n",
    "    cv2.putText(image, class_label, (x1, y1 - 5), cv2.FONT_HERSHEY_SIMPLEX, 0.5, (0, 0, 0), 1)\n",
    "\n",
    "    # Save or show the result\n",
    "    # cv2.imwrite(f\"/Users/damienmaujean/Library/CloudStorage/OneDrive-Personal/university/MiddleSex University/Year 3/CST3990 Individual Project/receipt extractor/experimentation/receipt extraction model.v2i.yolov8/annotion_extraction_test/annotated_image_{class_label}.jpg\", image)\n",
    "    # # cropped the picture\n",
    "    crop_img = image[y1:y2, x1:x2]\n",
    "    # cv2.imwrite(f\"/Users/damienmaujean/Library/CloudStorage/OneDrive-Personal/university/MiddleSex University/Year 3/CST3990 Individual Project/receipt extractor/experimentation/receipt extraction model.v2i.yolov8/annotion_extraction_test/annotated_image_{class_label}_cropped.jpg\", crop_img)\n",
    "\n",
    "    print(f\"\\n\\n {class_label} \\n\\n\")\n",
    "    print(extract_text(crop_img))\n"
   ]
  },
  {
   "cell_type": "code",
   "execution_count": 24,
   "metadata": {},
   "outputs": [],
   "source": [
    "def extract_receipt(model:YOLO, file_path):\n",
    "    # Run your model\n",
    "    results = model(file_path)\n",
    "\n",
    "    receipt_data = {}\n",
    "\n",
    "    # Dictionary to store highest confidence detection for each class\n",
    "    highest_conf_detections = {}\n",
    "    for result in results:\n",
    "        for box in result.boxes:\n",
    "            class_label = result.names[int(box.cls)]\n",
    "            conf = box.conf\n",
    "\n",
    "            # Check if this class_label already exists and if this detection has higher confidence\n",
    "            if class_label not in highest_conf_detections or highest_conf_detections[class_label].conf < conf:\n",
    "                highest_conf_detections[class_label] = box\n",
    "\n",
    "    # Now process only the detections with highest confidence for each class\n",
    "    for class_label, box in highest_conf_detections.items():\n",
    "        image = cv2.imread(file_path)\n",
    "\n",
    "        # Get box coordinates\n",
    "        x1 = int(box.xyxy[0][0])\n",
    "        y1 = int(box.xyxy[0][1])\n",
    "        x2 = int(box.xyxy[0][2])\n",
    "        y2 = int(box.xyxy[0][3])\n",
    "\n",
    "        crop_img = image[y1:y2, x1:x2]\n",
    "\n",
    "        receipt_data[class_label] = extract_text(crop_img)\n",
    "    return receipt_data\n"
   ]
  },
  {
   "cell_type": "code",
   "execution_count": 25,
   "metadata": {},
   "outputs": [
    {
     "name": "stdout",
     "output_type": "stream",
     "text": [
      "\n",
      "image 1/1 /Users/damienmaujean/Library/CloudStorage/OneDrive-Personal/university/MiddleSex University/Year 3/CST3990 Individual Project/src/Server/uploads/CAP2767703974190339483.jpg: 640x384 (no detections), 274.9ms\n",
      "Speed: 1.5ms preprocess, 274.9ms inference, 0.6ms postprocess per image at shape (1, 3, 640, 384)\n",
      "{}\n"
     ]
    }
   ],
   "source": [
    "\n",
    "# Load the image\n",
    "# file_path = \"/Users/damienmaujean/Library/CloudStorage/OneDrive-Personal/university/MiddleSex University/Year 3/CST3990 Individual Project/src/receipt extractor/experimentation/receipt extraction model.v2i.yolov8/train/images/0676aa86-IMG_20231221_163400_jpg.rf.5ce8e6bcbbfebbb12a6ecffb602abe3f.jpg\"\n",
    "file_path = \"/Users/damienmaujean/Library/CloudStorage/OneDrive-Personal/university/MiddleSex University/Year 3/CST3990 Individual Project/src/Server/uploads/CAP2767703974190339483.jpg\"\n",
    "print(extract_receipt(model, file_path))"
   ]
  }
 ],
 "metadata": {
  "kernelspec": {
   "display_name": "receipt_extractor",
   "language": "python",
   "name": "python3"
  },
  "language_info": {
   "codemirror_mode": {
    "name": "ipython",
    "version": 3
   },
   "file_extension": ".py",
   "mimetype": "text/x-python",
   "name": "python",
   "nbconvert_exporter": "python",
   "pygments_lexer": "ipython3",
   "version": "3.10.7"
  }
 },
 "nbformat": 4,
 "nbformat_minor": 2
}
